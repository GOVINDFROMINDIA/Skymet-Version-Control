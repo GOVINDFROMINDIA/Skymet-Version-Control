{
  "nbformat": 4,
  "nbformat_minor": 0,
  "metadata": {
    "colab": {
      "provenance": [],
      "authorship_tag": "ABX9TyORIydSVzZymQt6262ZuARB",
      "include_colab_link": true
    },
    "kernelspec": {
      "name": "python3",
      "display_name": "Python 3"
    },
    "language_info": {
      "name": "python"
    }
  },
  "cells": [
    {
      "cell_type": "markdown",
      "metadata": {
        "id": "view-in-github",
        "colab_type": "text"
      },
      "source": [
        "<a href=\"https://colab.research.google.com/github/GOVINDFROMINDIA/Skymet-Version-Control/blob/main/ExistingBias.ipynb\" target=\"_parent\"><img src=\"https://colab.research.google.com/assets/colab-badge.svg\" alt=\"Open In Colab\"/></a>"
      ]
    },
    {
      "cell_type": "markdown",
      "source": [
        "# Data Loading & Initial Statistics"
      ],
      "metadata": {
        "id": "_ujym5IWYoXy"
      }
    },
    {
      "cell_type": "code",
      "execution_count": null,
      "metadata": {
        "id": "pB0Omn7gUbds",
        "colab": {
          "base_uri": "https://localhost:8080/"
        },
        "outputId": "1a0fb4c3-4ca6-4447-a3a7-fd8fbe10f4c3"
      },
      "outputs": [
        {
          "output_type": "stream",
          "name": "stdout",
          "text": [
            "Drive already mounted at drive; to attempt to forcibly remount, call drive.mount(\"drive\", force_remount=True).\n"
          ]
        }
      ],
      "source": [
        "from google.colab import drive\n",
        "drive.mount('drive')"
      ]
    },
    {
      "cell_type": "code",
      "source": [
        "import pandas as pd\n",
        "data_path = '/content/drive/MyDrive/skymet/ML_merge_Data.xlsx'\n",
        "df = pd.read_excel(data_path)\n",
        "\n",
        "print(\"First 5 elements:\")\n",
        "print(df.head())\n",
        "\n",
        "print(\"\\nLast 5 elements:\")\n",
        "print(df.tail())\n",
        "\n",
        "num_rows, num_columns = df.shape\n",
        "print(f\"\\nNumber of rows: {num_rows}\")\n",
        "print(f\"Number of columns: {num_columns}\")\n",
        "\n",
        "print(\"\\nColumn names:\")\n",
        "print(df.columns.tolist())\n"
      ],
      "metadata": {
        "colab": {
          "base_uri": "https://localhost:8080/"
        },
        "id": "lkfriwSDVp2-",
        "outputId": "1cc60798-7e76-4a96-ff86-d69f41fc0b2d"
      },
      "execution_count": null,
      "outputs": [
        {
          "output_type": "stream",
          "name": "stdout",
          "text": [
            "First 5 elements:\n",
            "             ID  AREA_ID        Device ID            Timestamp       Date  \\\n",
            "0  1.440750e+06        1  862649044418623  01-09-2020 07:00:00 2020-09-01   \n",
            "1  1.440750e+06        1  862649044418623  01-09-2020 08:00:00 2020-09-01   \n",
            "2  1.440750e+06        1  862649044418623  01-09-2020 09:00:00 2020-09-01   \n",
            "3  1.440750e+06        1  862649044418623  01-09-2020 10:00:00 2020-09-01   \n",
            "4  1.440750e+06        1  862649044418623  01-09-2020 11:00:00 2020-09-01   \n",
            "\n",
            "       Time  Ambient Temperature(Deg.C)  Ambient Humidity(%)  \\\n",
            "0  07:00:00                        22.0                 99.9   \n",
            "1  08:00:00                        23.0                 99.9   \n",
            "2  09:00:00                        24.8                 92.4   \n",
            "3  10:00:00                        27.0                 83.2   \n",
            "4  11:00:00                        30.3                 71.9   \n",
            "\n",
            "   Precipitation(mm/hour)  TEMP_FCST  RH(%)  Rain_FCST  Surf_Pres.hPa.  \\\n",
            "0                     0.0      22.56  94.97       0.38        937.4141   \n",
            "1                     0.0      22.50  96.21       0.06        938.2484   \n",
            "2                     0.0      22.83  97.15       0.03        938.9400   \n",
            "3                     0.0      23.36  95.11       2.69        939.3275   \n",
            "4                     0.0      23.83  93.24       0.16        939.4175   \n",
            "\n",
            "   TEMP.degC.  Rain.mm.  u10.m.s.  v10.m.s.  sh.kg.kg.  low_cloud...    hgt.m.  \n",
            "0    21.44427  0.000000  2.218750  1.336285   0.016771      78.00000  754.9625  \n",
            "1    21.89218  0.000000  2.302135  1.490798   0.017013      89.56250  762.0032  \n",
            "2    22.70617  0.000000  3.218750  1.462083   0.017087      89.84375  768.9898  \n",
            "3    23.66900  0.000000  3.707031  1.303228   0.017234      59.12500  773.9551  \n",
            "4    24.52404  0.015625  3.877777  0.996979   0.017069      90.65625  774.0125  \n",
            "\n",
            "Last 5 elements:\n",
            "                  ID  AREA_ID        Device ID            Timestamp  \\\n",
            "294754  2.745069e+07       27  865771053160784  23-05-2023 12:00:00   \n",
            "294755  2.745069e+07       27  865771053160784  23-05-2023 13:00:00   \n",
            "294756  2.745069e+07       27  865771053160784  23-05-2023 14:00:00   \n",
            "294757  2.745069e+07       27  865771053160784  23-05-2023 15:00:00   \n",
            "294758  2.745069e+07       27  865771053160784  23-05-2023 16:00:00   \n",
            "\n",
            "             Date      Time  Ambient Temperature(Deg.C)  Ambient Humidity(%)  \\\n",
            "294754 2023-05-23  12:00:00                        33.5                 63.9   \n",
            "294755 2023-05-23  13:00:00                        34.2                 63.8   \n",
            "294756 2023-05-23  14:00:00                        34.2                 63.8   \n",
            "294757 2023-05-23  15:00:00                        34.2                 63.8   \n",
            "294758 2023-05-23  16:00:00                        34.2                 63.8   \n",
            "\n",
            "        Precipitation(mm/hour)  TEMP_FCST  RH(%)  Rain_FCST  Surf_Pres.hPa.  \\\n",
            "294754                     0.0      29.59  70.32        0.0        1011.793   \n",
            "294755                     0.0      29.81  68.26        0.0        1010.776   \n",
            "294756                     0.0      29.85  68.81        0.0        1009.859   \n",
            "294757                     0.0      29.95  69.16        0.0        1008.524   \n",
            "294758                     0.0      29.89  70.31        0.0        1007.621   \n",
            "\n",
            "        TEMP.degC.  Rain.mm.  u10.m.s.  v10.m.s.  sh.kg.kg.  low_cloud...  \\\n",
            "294754    31.72961       0.0  3.867846 -2.208264   0.017014          10.0   \n",
            "294755    32.19982       0.0  4.485243 -1.402709   0.016624           5.0   \n",
            "294756    32.47524       0.0  5.050231 -0.763368   0.016571           0.0   \n",
            "294757    32.83801       0.0  5.447801 -0.081597   0.015762           0.0   \n",
            "294758    32.82281       0.0  5.595544  0.768541   0.015625           0.0   \n",
            "\n",
            "          hgt.m.  \n",
            "294754  796.5392  \n",
            "294755  789.1434  \n",
            "294756  782.1241  \n",
            "294757  772.5383  \n",
            "294758  764.6080  \n",
            "\n",
            "Number of rows: 294759\n",
            "Number of columns: 20\n",
            "\n",
            "Column names:\n",
            "['ID', 'AREA_ID', 'Device ID', 'Timestamp', 'Date', 'Time', 'Ambient Temperature(Deg.C)', 'Ambient Humidity(%)', 'Precipitation(mm/hour)', 'TEMP_FCST', 'RH(%)', 'Rain_FCST', 'Surf_Pres.hPa.', 'TEMP.degC.', 'Rain.mm.', 'u10.m.s.', 'v10.m.s.', 'sh.kg.kg.', 'low_cloud...', 'hgt.m.']\n"
          ]
        }
      ]
    },
    {
      "cell_type": "code",
      "source": [
        "columns_to_consider = ['Timestamp', 'Ambient Temperature(Deg.C)', 'Ambient Humidity(%)', 'Precipitation(mm/hour)',\n",
        "                        'TEMP_FCST', 'RH(%)', 'Rain_FCST', 'Surf_Pres.hPa.', 'TEMP.degC.', 'Rain.mm.', 'u10.m.s.',\n",
        "                        'v10.m.s.', 'sh.kg.kg.', 'low_cloud...', 'hgt.m.']\n",
        "\n",
        "df = df[columns_to_consider]\n",
        "df = df.dropna(subset=columns_to_consider)\n",
        "\n",
        "print(df)\n",
        "num_rows, num_columns = df.shape\n",
        "print(f\"\\nNumber of rows: {num_rows}\")\n",
        "print(f\"Number of columns: {num_columns}\")"
      ],
      "metadata": {
        "colab": {
          "base_uri": "https://localhost:8080/"
        },
        "id": "OmeFEdimZyfB",
        "outputId": "d1207744-4fe3-4240-e940-49bda06cc351"
      },
      "execution_count": null,
      "outputs": [
        {
          "output_type": "stream",
          "name": "stdout",
          "text": [
            "                  Timestamp  Ambient Temperature(Deg.C)  Ambient Humidity(%)  \\\n",
            "0       01-09-2020 07:00:00                        22.0                 99.9   \n",
            "1       01-09-2020 08:00:00                        23.0                 99.9   \n",
            "2       01-09-2020 09:00:00                        24.8                 92.4   \n",
            "3       01-09-2020 10:00:00                        27.0                 83.2   \n",
            "4       01-09-2020 11:00:00                        30.3                 71.9   \n",
            "...                     ...                         ...                  ...   \n",
            "294754  23-05-2023 12:00:00                        33.5                 63.9   \n",
            "294755  23-05-2023 13:00:00                        34.2                 63.8   \n",
            "294756  23-05-2023 14:00:00                        34.2                 63.8   \n",
            "294757  23-05-2023 15:00:00                        34.2                 63.8   \n",
            "294758  23-05-2023 16:00:00                        34.2                 63.8   \n",
            "\n",
            "        Precipitation(mm/hour)  TEMP_FCST  RH(%)  Rain_FCST  Surf_Pres.hPa.  \\\n",
            "0                          0.0      22.56  94.97       0.38        937.4141   \n",
            "1                          0.0      22.50  96.21       0.06        938.2484   \n",
            "2                          0.0      22.83  97.15       0.03        938.9400   \n",
            "3                          0.0      23.36  95.11       2.69        939.3275   \n",
            "4                          0.0      23.83  93.24       0.16        939.4175   \n",
            "...                        ...        ...    ...        ...             ...   \n",
            "294754                     0.0      29.59  70.32       0.00       1011.7930   \n",
            "294755                     0.0      29.81  68.26       0.00       1010.7760   \n",
            "294756                     0.0      29.85  68.81       0.00       1009.8590   \n",
            "294757                     0.0      29.95  69.16       0.00       1008.5240   \n",
            "294758                     0.0      29.89  70.31       0.00       1007.6210   \n",
            "\n",
            "        TEMP.degC.  Rain.mm.  u10.m.s.  v10.m.s.  sh.kg.kg.  low_cloud...  \\\n",
            "0         21.44427  0.000000  2.218750  1.336285   0.016771      78.00000   \n",
            "1         21.89218  0.000000  2.302135  1.490798   0.017013      89.56250   \n",
            "2         22.70617  0.000000  3.218750  1.462083   0.017087      89.84375   \n",
            "3         23.66900  0.000000  3.707031  1.303228   0.017234      59.12500   \n",
            "4         24.52404  0.015625  3.877777  0.996979   0.017069      90.65625   \n",
            "...            ...       ...       ...       ...        ...           ...   \n",
            "294754    31.72961  0.000000  3.867846 -2.208264   0.017014      10.00000   \n",
            "294755    32.19982  0.000000  4.485243 -1.402709   0.016624       5.00000   \n",
            "294756    32.47524  0.000000  5.050231 -0.763368   0.016571       0.00000   \n",
            "294757    32.83801  0.000000  5.447801 -0.081597   0.015762       0.00000   \n",
            "294758    32.82281  0.000000  5.595544  0.768541   0.015625       0.00000   \n",
            "\n",
            "          hgt.m.  \n",
            "0       754.9625  \n",
            "1       762.0032  \n",
            "2       768.9898  \n",
            "3       773.9551  \n",
            "4       774.0125  \n",
            "...          ...  \n",
            "294754  796.5392  \n",
            "294755  789.1434  \n",
            "294756  782.1241  \n",
            "294757  772.5383  \n",
            "294758  764.6080  \n",
            "\n",
            "[294759 rows x 15 columns]\n",
            "\n",
            "Number of rows: 294759\n",
            "Number of columns: 15\n"
          ]
        }
      ]
    },
    {
      "cell_type": "markdown",
      "source": [
        "# Feature Engineering"
      ],
      "metadata": {
        "id": "8yaEKJ7mjdXt"
      }
    },
    {
      "cell_type": "code",
      "source": [
        "df['Timestamp'] = pd.to_datetime(df['Timestamp'])\n",
        "df['Unix_Timestamp'] = df['Timestamp'].apply(lambda x: int(x.timestamp()))\n",
        "print(df)\n",
        "num_rows, num_columns = df.shape"
      ],
      "metadata": {
        "colab": {
          "base_uri": "https://localhost:8080/"
        },
        "id": "gXh4Cb4pjevh",
        "outputId": "5b019cd1-7e4e-478d-fc1b-3c341f54803e"
      },
      "execution_count": null,
      "outputs": [
        {
          "output_type": "stream",
          "name": "stdout",
          "text": [
            "                 Timestamp  Ambient Temperature(Deg.C)  Ambient Humidity(%)  \\\n",
            "0      2020-01-09 07:00:00                        22.0                 99.9   \n",
            "1      2020-01-09 08:00:00                        23.0                 99.9   \n",
            "2      2020-01-09 09:00:00                        24.8                 92.4   \n",
            "3      2020-01-09 10:00:00                        27.0                 83.2   \n",
            "4      2020-01-09 11:00:00                        30.3                 71.9   \n",
            "...                    ...                         ...                  ...   \n",
            "294754 2023-05-23 12:00:00                        33.5                 63.9   \n",
            "294755 2023-05-23 13:00:00                        34.2                 63.8   \n",
            "294756 2023-05-23 14:00:00                        34.2                 63.8   \n",
            "294757 2023-05-23 15:00:00                        34.2                 63.8   \n",
            "294758 2023-05-23 16:00:00                        34.2                 63.8   \n",
            "\n",
            "        Precipitation(mm/hour)  TEMP_FCST  RH(%)  Rain_FCST  Surf_Pres.hPa.  \\\n",
            "0                          0.0      22.56  94.97       0.38        937.4141   \n",
            "1                          0.0      22.50  96.21       0.06        938.2484   \n",
            "2                          0.0      22.83  97.15       0.03        938.9400   \n",
            "3                          0.0      23.36  95.11       2.69        939.3275   \n",
            "4                          0.0      23.83  93.24       0.16        939.4175   \n",
            "...                        ...        ...    ...        ...             ...   \n",
            "294754                     0.0      29.59  70.32       0.00       1011.7930   \n",
            "294755                     0.0      29.81  68.26       0.00       1010.7760   \n",
            "294756                     0.0      29.85  68.81       0.00       1009.8590   \n",
            "294757                     0.0      29.95  69.16       0.00       1008.5240   \n",
            "294758                     0.0      29.89  70.31       0.00       1007.6210   \n",
            "\n",
            "        TEMP.degC.  Rain.mm.  u10.m.s.  v10.m.s.  sh.kg.kg.  low_cloud...  \\\n",
            "0         21.44427  0.000000  2.218750  1.336285   0.016771      78.00000   \n",
            "1         21.89218  0.000000  2.302135  1.490798   0.017013      89.56250   \n",
            "2         22.70617  0.000000  3.218750  1.462083   0.017087      89.84375   \n",
            "3         23.66900  0.000000  3.707031  1.303228   0.017234      59.12500   \n",
            "4         24.52404  0.015625  3.877777  0.996979   0.017069      90.65625   \n",
            "...            ...       ...       ...       ...        ...           ...   \n",
            "294754    31.72961  0.000000  3.867846 -2.208264   0.017014      10.00000   \n",
            "294755    32.19982  0.000000  4.485243 -1.402709   0.016624       5.00000   \n",
            "294756    32.47524  0.000000  5.050231 -0.763368   0.016571       0.00000   \n",
            "294757    32.83801  0.000000  5.447801 -0.081597   0.015762       0.00000   \n",
            "294758    32.82281  0.000000  5.595544  0.768541   0.015625       0.00000   \n",
            "\n",
            "          hgt.m.  Unix_Timestamp  \n",
            "0       754.9625      1578553200  \n",
            "1       762.0032      1578556800  \n",
            "2       768.9898      1578560400  \n",
            "3       773.9551      1578564000  \n",
            "4       774.0125      1578567600  \n",
            "...          ...             ...  \n",
            "294754  796.5392      1684843200  \n",
            "294755  789.1434      1684846800  \n",
            "294756  782.1241      1684850400  \n",
            "294757  772.5383      1684854000  \n",
            "294758  764.6080      1684857600  \n",
            "\n",
            "[294759 rows x 16 columns]\n"
          ]
        }
      ]
    },
    {
      "cell_type": "code",
      "source": [
        "print(\"\\nColumn names:\")\n",
        "print(df.columns.tolist())"
      ],
      "metadata": {
        "colab": {
          "base_uri": "https://localhost:8080/"
        },
        "id": "WBKPRP3AsxoT",
        "outputId": "fb7f62a4-43b7-4b63-e3a5-c42d108d4893"
      },
      "execution_count": null,
      "outputs": [
        {
          "output_type": "stream",
          "name": "stdout",
          "text": [
            "\n",
            "Column names:\n",
            "['Timestamp', 'Ambient Temperature(Deg.C)', 'Ambient Humidity(%)', 'Precipitation(mm/hour)', 'TEMP_FCST', 'RH(%)', 'Rain_FCST', 'Surf_Pres.hPa.', 'TEMP.degC.', 'Rain.mm.', 'u10.m.s.', 'v10.m.s.', 'sh.kg.kg.', 'low_cloud...', 'hgt.m.', 'Unix_Timestamp']\n"
          ]
        }
      ]
    },
    {
      "cell_type": "code",
      "source": [
        "df.to_csv('/content/drive/MyDrive/skymet/data.csv', index=False)"
      ],
      "metadata": {
        "id": "jygcZt_Rxj9I"
      },
      "execution_count": null,
      "outputs": []
    },
    {
      "cell_type": "code",
      "source": [
        "import pandas as pd\n",
        "\n",
        "df['Unix_Timestamp'] = pd.to_datetime(df['Unix_Timestamp'], unit='s')\n",
        "\n",
        "time_diff = df['Unix_Timestamp'].diff()\n",
        "unique_time_diff = time_diff.unique()\n",
        "print(f\"Unique Time Differences:\\n{unique_time_diff}\")\n",
        "mode_time_diff = time_diff.mode().iloc[0]\n",
        "print(f\"Most Common Time Difference (Mode): {mode_time_diff}\")\n"
      ],
      "metadata": {
        "colab": {
          "base_uri": "https://localhost:8080/"
        },
        "id": "MzB6NnPxydII",
        "outputId": "cb72f675-5488-4cbe-cec5-65498d797b27"
      },
      "execution_count": null,
      "outputs": [
        {
          "output_type": "stream",
          "name": "stdout",
          "text": [
            "Unique Time Differences:\n",
            "[              'NaT'       3600000000000    2646000000000000\n",
            "    2422800000000000    2602800000000000       7200000000000\n",
            "    2509200000000000    2595600000000000    2552400000000000\n",
            "   -7599600000000000      10800000000000      14400000000000\n",
            "  -22892400000000000    2516400000000000   -5094000000000000\n",
            "      -3600000000000  -25477200000000000    2430000000000000\n",
            "     655200000000000  -27982800000000000    2336400000000000\n",
            "  -27896400000000000   -2588400000000000    2343600000000000\n",
            "    2512800000000000  -25311600000000000   -4921200000000000\n",
            "  -22978800000000000   -7513200000000000    2599200000000000\n",
            "  -20386800000000000      28800000000000  -10018800000000000\n",
            "    2340000000000000  -17881200000000000                   0\n",
            "  -12610800000000000  -15289200000000000  -15116400000000000\n",
            "  -12783600000000000     136800000000000      61200000000000\n",
            "      39600000000000      50400000000000      43200000000000\n",
            "      57600000000000      18000000000000  -17661600000000000\n",
            "    2397600000000000    2649600000000000  -10191600000000000\n",
            "      54000000000000  -20300400000000000    2383200000000000\n",
            "    2556000000000000    2559600000000000      32400000000000\n",
            "  -22806000000000000      21600000000000  -25398000000000000\n",
            "   -2502000000000000     172800000000000  -27903600000000000\n",
            "    2653200000000000    2656800000000000   -4485600000000000\n",
            "   10353600000000000   -4503600000000000    1119600000000000\n",
            "  -17708400000000000 -108093600000000000  -25484400000000000\n",
            "    2433600000000000  -27990000000000000    2523600000000000\n",
            "    2520000000000000  -17877600000000000    7520400000000000\n",
            "     158400000000000      64800000000000      86400000000000\n",
            "      25200000000000    2534400000000000    2620800000000000\n",
            "    2541600000000000  -22953600000000000      36000000000000\n",
            "     853200000000000     500400000000000     176400000000000\n",
            "     133200000000000  -12304800000000000    6987600000000000\n",
            "    4748400000000000     -14400000000000   -2494800000000000\n",
            "    2606400000000000   -7506000000000000   -8593200000000000\n",
            "     154800000000000      93600000000000  -22701600000000000\n",
            "    2448000000000000    2610000000000000    2631600000000000\n",
            "    2628000000000000    2638800000000000   -5065200000000000\n",
            "    2548800000000000   -7592400000000000    9475200000000000\n",
            "     151200000000000   -7945200000000000   -7567200000000000\n",
            "      90000000000000   -5086800000000000   -7509600000000000\n",
            "    7599600000000000   10015200000000000  -26748000000000000\n",
            "      75600000000000  -17704800000000000  -10188000000000000\n",
            "   -7596000000000000     633600000000000  -22802400000000000\n",
            "   -5090400000000000  -25308000000000000  -37296000000000000\n",
            "  -20296800000000000  -27900000000000000  -34686000000000000\n",
            "    7981200000000000   -5266800000000000    2862000000000000\n",
            "  -45453600000000000    2588400000000000    2617200000000000\n",
            "      72000000000000  -12607200000000000    3790800000000000\n",
            "    2613600000000000   -9270000000000000    5256000000000000\n",
            "   -5068800000000000     147600000000000    1609200000000000\n",
            "  -45540000000000000    2660400000000000   -3117600000000000\n",
            "    4161600000000000  -21952800000000000  -22561200000000000\n",
            "     248400000000000    1994400000000000      79200000000000\n",
            "     -82800000000000    1569600000000000    1346400000000000\n",
            "    5277600000000000  -25063200000000000    2538000000000000\n",
            "    2642400000000000    2545200000000000    2635200000000000\n",
            "    2624400000000000  -10162800000000000     129600000000000\n",
            "  -20250000000000000    2707200000000000    2376000000000000\n",
            "    3106800000000000     255600000000000     432000000000000\n",
            "    -169200000000000  -22762800000000000    2379600000000000\n",
            "   -5047200000000000      68400000000000  -25340400000000000\n",
            "    2386800000000000    2664000000000000    2574000000000000\n",
            "   -2451600000000000     140400000000000  -27889200000000000\n",
            "   16142400000000000     424800000000000     414000000000000\n",
            "     334800000000000   26424000000000000  -21319200000000000\n",
            "    5176800000000000    1623600000000000  -41158800000000000\n",
            "  -20080800000000000     342000000000000     241200000000000\n",
            "   -9352800000000000  -41479200000000000     234000000000000\n",
            "    1195200000000000     514800000000000    1818000000000000\n",
            "     111600000000000      82800000000000    2530800000000000\n",
            "  -26730000000000000   -9122400000000000     817200000000000\n",
            "   -4816800000000000    3891600000000000   -3290400000000000\n",
            "  -27871200000000000     100800000000000    6314400000000000\n",
            "  -24789600000000000  -41968800000000000   -2088000000000000\n",
            "  -10083600000000000   -2674800000000000    8852400000000000\n",
            "      46800000000000  -34693200000000000  -15667200000000000\n",
            "    2858400000000000  -27781200000000000  -19933200000000000\n",
            "   11556000000000000  -27777600000000000  -48045600000000000\n",
            "    2682000000000000    5266800000000000  -12528000000000000\n",
            "     435600000000000     370800000000000    -428400000000000\n",
            "     939600000000000   -9597600000000000    7758000000000000\n",
            "  -84110400000000000     -32400000000000    -342000000000000\n",
            "   12092400000000000    3031200000000000    -255600000000000\n",
            "  -81975600000000000  -17683200000000000     126000000000000\n",
            "     928800000000000   29527200000000000  -26182800000000000\n",
            "    7862400000000000   -6782400000000000     702000000000000\n",
            "    7920000000000000  -12204000000000000    2761200000000000\n",
            "    9842400000000000     586800000000000    2163600000000000\n",
            "   -7099200000000000  -31161600000000000    4726800000000000\n",
            "    8020800000000000]\n",
            "Most Common Time Difference (Mode): 0 days 01:00:00\n"
          ]
        }
      ]
    },
    {
      "cell_type": "code",
      "source": [
        "from statsmodels.graphics.tsaplots import plot_acf, plot_pacf\n",
        "\n",
        "fig, (ax1, ax2) = plt.subplots(2, 1, figsize=(10, 8))\n",
        "plot_acf(df['Ambient Temperature(Deg.C)'], ax=ax1, lags=50)\n",
        "plot_pacf(df['Ambient Temperature(Deg.C)'], ax=ax2, lags=50)\n",
        "plt.show()\n"
      ],
      "metadata": {
        "colab": {
          "base_uri": "https://localhost:8080/",
          "height": 699
        },
        "id": "ysqnBRhlzQII",
        "outputId": "60e814ff-4c0b-4aba-fd34-6135195d8076"
      },
      "execution_count": null,
      "outputs": [
        {
          "output_type": "display_data",
          "data": {
            "text/plain": [
              "<Figure size 1000x800 with 2 Axes>"
            ],
            "image/png": "[encoded data removed]"
          },
          "metadata": {}
        }
      ]
    }
  ]
}